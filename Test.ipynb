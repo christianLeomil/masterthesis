{
 "cells": [
  {
   "cell_type": "code",
   "execution_count": 1,
   "metadata": {},
   "outputs": [],
   "source": [
    "import pyomo.environ as pyo"
   ]
  },
  {
   "cell_type": "code",
   "execution_count": 2,
   "metadata": {},
   "outputs": [],
   "source": [
    "m1 = pyo.ConcreteModel()"
   ]
  },
  {
   "cell_type": "code",
   "execution_count": 3,
   "metadata": {},
   "outputs": [],
   "source": [
    "m2 = pyo.ConcreteModel()"
   ]
  },
  {
   "cell_type": "code",
   "execution_count": 4,
   "metadata": {},
   "outputs": [],
   "source": [
    "m1.k = pyo.Set(initialize = [1,2,3])\n",
    "m1.x = pyo.Var(m1.k, domain= pyo.NonNegativeReals)"
   ]
  },
  {
   "cell_type": "code",
   "execution_count": 5,
   "metadata": {},
   "outputs": [],
   "source": [
    "m1.const = pyo.Constraint(expr = sum(m1.x[i] for i in m1.k)<=3)"
   ]
  },
  {
   "cell_type": "code",
   "execution_count": 6,
   "metadata": {},
   "outputs": [],
   "source": [
    "m2.k = pyo.Set(initialize = [1,2,3,4,5])\n",
    "m2.y = pyo.Var(m2.k, domain= pyo.NonNegativeReals)"
   ]
  },
  {
   "cell_type": "code",
   "execution_count": 7,
   "metadata": {},
   "outputs": [],
   "source": [
    "m2.const = pyo.Constraint(expr = sum(m2.y[i] for i in m2.k)<=3)"
   ]
  },
  {
   "cell_type": "code",
   "execution_count": 8,
   "metadata": {},
   "outputs": [],
   "source": [
    "m3 = pyo.ConcreteModel()\n",
    "m3.m1 = m1\n",
    "m3.m2 = m2"
   ]
  },
  {
   "cell_type": "code",
   "execution_count": 9,
   "metadata": {},
   "outputs": [],
   "source": [
    "m3.objective = pyo.Objective(expr = sum(m3.m1.x[i]*5 for i in m3.m1.k) + sum(m3.m2.y[i]*4 for i in m3.m2.k), sense = pyo.maximize)"
   ]
  },
  {
   "cell_type": "code",
   "execution_count": null,
   "metadata": {},
   "outputs": [],
   "source": []
  },
  {
   "cell_type": "code",
   "execution_count": 10,
   "metadata": {},
   "outputs": [
    {
     "name": "stdout",
     "output_type": "stream",
     "text": [
      "optimal\n"
     ]
    }
   ],
   "source": [
    "cple = pyo.SolverFactory('cplex')\n",
    "results = cple.solve(m3)\n",
    "status = results.solver.termination_condition\n",
    "print(status)"
   ]
  },
  {
   "cell_type": "code",
   "execution_count": 11,
   "metadata": {},
   "outputs": [
    {
     "name": "stdout",
     "output_type": "stream",
     "text": [
      "Model unknown\n",
      "\n",
      "  Variables:\n",
      "    None\n",
      "\n",
      "  Objectives:\n",
      "    objective : Size=1, Index=None, Active=True\n",
      "        Key  : Active : Value\n",
      "        None :   True :  27.0\n",
      "\n",
      "  Constraints:\n",
      "    None\n",
      "\n",
      "  Blocks:\n",
      "    Block m1\n",
      "    \n",
      "      Variables:\n",
      "        x : Size=3, Index=m1.k\n",
      "            Key : Lower : Value : Upper : Fixed : Stale : Domain\n",
      "              1 :     0 :   0.0 :  None : False : False : NonNegativeReals\n",
      "              2 :     0 :   0.0 :  None : False : False : NonNegativeReals\n",
      "              3 :     0 :   3.0 :  None : False : False : NonNegativeReals\n",
      "    \n",
      "      Objectives:\n",
      "        None\n",
      "    \n",
      "      Constraints:\n",
      "        const : Size=1\n",
      "            Key  : Lower : Body : Upper\n",
      "            None :  None :  3.0 :   3.0\n",
      "    Block m2\n",
      "    \n",
      "      Variables:\n",
      "        y : Size=5, Index=m2.k\n",
      "            Key : Lower : Value : Upper : Fixed : Stale : Domain\n",
      "              1 :     0 :   0.0 :  None : False : False : NonNegativeReals\n",
      "              2 :     0 :   0.0 :  None : False : False : NonNegativeReals\n",
      "              3 :     0 :   0.0 :  None : False : False : NonNegativeReals\n",
      "              4 :     0 :   0.0 :  None : False : False : NonNegativeReals\n",
      "              5 :     0 :   3.0 :  None : False : False : NonNegativeReals\n",
      "    \n",
      "      Objectives:\n",
      "        None\n",
      "    \n",
      "      Constraints:\n",
      "        const : Size=1\n",
      "            Key  : Lower : Body : Upper\n",
      "            None :  None :  3.0 :   3.0\n"
     ]
    }
   ],
   "source": [
    "m3.display()"
   ]
  },
  {
   "cell_type": "code",
   "execution_count": 12,
   "metadata": {},
   "outputs": [],
   "source": [
    "class classedomodelo:\n",
    "    def set():    \n",
    "        return pyo.Set()\n",
    "    def var(model,set):\n",
    "        model.var = pyo.Var(set , within = pyo.NonNegativeReals)\n",
    "        # self.model.param = pyo.Param(self.model.k)\n",
    "    def constraint(model,k):\n",
    "        return model.var[k] <= 3\n",
    "    def objetivo(modelo):\n",
    "        return sum(modelo.var[i] for i in modelo.k)"
   ]
  },
  {
   "cell_type": "code",
   "execution_count": 13,
   "metadata": {},
   "outputs": [],
   "source": [
    "model = pyo.AbstractModel()\n",
    "model.k = classedomodelo.set()\n",
    "classedomodelo.var(model,model.k)\n",
    "model.constraint = pyo.Constraint(model.k, rule = classedomodelo.constraint)\n",
    "model.obj = pyo.Objective( rule = classedomodelo.objetivo, sense = pyo.maximize)"
   ]
  },
  {
   "cell_type": "code",
   "execution_count": 14,
   "metadata": {},
   "outputs": [
    {
     "name": "stdout",
     "output_type": "stream",
     "text": [
      "1 Set Declarations\n",
      "    k : Size=1, Index=None, Ordered=Insertion\n",
      "        Key  : Dimen : Domain : Size : Members\n",
      "        None :     1 :    Any :    3 : {1, 2, 3}\n",
      "\n",
      "1 Var Declarations\n",
      "    var : Size=3, Index=k\n",
      "        Key : Lower : Value : Upper : Fixed : Stale : Domain\n",
      "          1 :     0 :  None :  None : False :  True : NonNegativeReals\n",
      "          2 :     0 :  None :  None : False :  True : NonNegativeReals\n",
      "          3 :     0 :  None :  None : False :  True : NonNegativeReals\n",
      "\n",
      "1 Objective Declarations\n",
      "    obj : Size=1, Index=None, Active=True\n",
      "        Key  : Active : Sense    : Expression\n",
      "        None :   True : maximize : var[1] + var[2] + var[3]\n",
      "\n",
      "1 Constraint Declarations\n",
      "    constraint : Size=3, Index=k, Active=True\n",
      "        Key : Lower : Body   : Upper : Active\n",
      "          1 :  -Inf : var[1] :   3.0 :   True\n",
      "          2 :  -Inf : var[2] :   3.0 :   True\n",
      "          3 :  -Inf : var[3] :   3.0 :   True\n",
      "\n",
      "4 Declarations: k var constraint obj\n"
     ]
    }
   ],
   "source": [
    "instance1 = model.create_instance({None:{\n",
    "    'k': {None : [1,2,3]}\n",
    "}})\n",
    "instance1.pprint()"
   ]
  },
  {
   "cell_type": "code",
   "execution_count": 15,
   "metadata": {},
   "outputs": [
    {
     "name": "stdout",
     "output_type": "stream",
     "text": [
      "Model unknown\n",
      "\n",
      "  Variables:\n",
      "    var : Size=3, Index=k\n",
      "        Key : Lower : Value : Upper : Fixed : Stale : Domain\n",
      "          1 :     0 :   3.0 :  None : False : False : NonNegativeReals\n",
      "          2 :     0 :   3.0 :  None : False : False : NonNegativeReals\n",
      "          3 :     0 :   3.0 :  None : False : False : NonNegativeReals\n",
      "\n",
      "  Objectives:\n",
      "    obj : Size=1, Index=None, Active=True\n",
      "        Key  : Active : Value\n",
      "        None :   True :   9.0\n",
      "\n",
      "  Constraints:\n",
      "    constraint : Size=3\n",
      "        Key : Lower : Body : Upper\n",
      "          1 :  None :  3.0 :   3.0\n",
      "          2 :  None :  3.0 :   3.0\n",
      "          3 :  None :  3.0 :   3.0\n"
     ]
    }
   ],
   "source": [
    "opt = pyo.SolverFactory('cplex')\n",
    "opt.solve(instance1)\n",
    "instance1.display() "
   ]
  }
 ],
 "metadata": {
  "kernelspec": {
   "display_name": "Python 3",
   "language": "python",
   "name": "python3"
  },
  "language_info": {
   "codemirror_mode": {
    "name": "ipython",
    "version": 3
   },
   "file_extension": ".py",
   "mimetype": "text/x-python",
   "name": "python",
   "nbconvert_exporter": "python",
   "pygments_lexer": "ipython3",
   "version": "3.7.9"
  },
  "orig_nbformat": 4
 },
 "nbformat": 4,
 "nbformat_minor": 2
}
